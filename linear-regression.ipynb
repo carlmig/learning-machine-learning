{
 "cells": [
  {
   "cell_type": "code",
   "execution_count": 2,
   "id": "49511a94-5e17-4324-b038-738260e99e22",
   "metadata": {},
   "outputs": [],
   "source": [
    "# initial setup\n",
    "import polars as pl\n",
    "import polars.selectors as cs\n",
    "import sklearn \n",
    "from sklearn.pipeline import Pipeline\n",
    "from sklearn.compose import ColumnTransformer\n",
    "from sklearn.preprocessing import StandardScaler, OneHotEncoder\n",
    "from sklearn.impute import SimpleImputer\n",
    "from sklearn.model_selection import train_test_split\n",
    "from sklearn.preprocessing import FunctionTransformer\n",
    "from sklearn.base import BaseEstimator, TransformerMixin\n",
    "from sklearn import set_config\n",
    "set_config(transform_output='polars')\n",
    "\n",
    "import warnings\n",
    "warnings.filterwarnings('ignore')"
   ]
  },
  {
   "cell_type": "code",
   "execution_count": 3,
   "id": "485baa0d-de88-4e3a-a03c-2522e830a832",
   "metadata": {},
   "outputs": [
    {
     "data": {
      "text/html": [
       "<div><style>\n",
       ".dataframe > thead > tr,\n",
       ".dataframe > tbody > tr {\n",
       "  text-align: right;\n",
       "  white-space: pre-wrap;\n",
       "}\n",
       "</style>\n",
       "<small>shape: (10_781, 9)</small><table border=\"1\" class=\"dataframe\"><thead><tr><th>model</th><th>year</th><th>price</th><th>transmission</th><th>mileage</th><th>fuelType</th><th>tax</th><th>mpg</th><th>engineSize</th></tr><tr><td>str</td><td>i64</td><td>i64</td><td>str</td><td>i64</td><td>str</td><td>i64</td><td>f64</td><td>f64</td></tr></thead><tbody><tr><td>&quot; 5 Series&quot;</td><td>2014</td><td>11200</td><td>&quot;Automatic&quot;</td><td>67068</td><td>&quot;Diesel&quot;</td><td>125</td><td>57.6</td><td>2.0</td></tr><tr><td>&quot; 6 Series&quot;</td><td>2018</td><td>27000</td><td>&quot;Automatic&quot;</td><td>14827</td><td>&quot;Petrol&quot;</td><td>145</td><td>42.8</td><td>2.0</td></tr><tr><td>&quot; 5 Series&quot;</td><td>2016</td><td>16000</td><td>&quot;Automatic&quot;</td><td>62794</td><td>&quot;Diesel&quot;</td><td>160</td><td>51.4</td><td>3.0</td></tr><tr><td>&quot; 1 Series&quot;</td><td>2017</td><td>12750</td><td>&quot;Automatic&quot;</td><td>26676</td><td>&quot;Diesel&quot;</td><td>145</td><td>72.4</td><td>1.5</td></tr><tr><td>&quot; 7 Series&quot;</td><td>2014</td><td>14500</td><td>&quot;Automatic&quot;</td><td>39554</td><td>&quot;Diesel&quot;</td><td>160</td><td>50.4</td><td>3.0</td></tr><tr><td>&hellip;</td><td>&hellip;</td><td>&hellip;</td><td>&hellip;</td><td>&hellip;</td><td>&hellip;</td><td>&hellip;</td><td>&hellip;</td><td>&hellip;</td></tr><tr><td>&quot; X3&quot;</td><td>2016</td><td>19000</td><td>&quot;Automatic&quot;</td><td>40818</td><td>&quot;Diesel&quot;</td><td>150</td><td>54.3</td><td>2.0</td></tr><tr><td>&quot; 5 Series&quot;</td><td>2016</td><td>14600</td><td>&quot;Automatic&quot;</td><td>42947</td><td>&quot;Diesel&quot;</td><td>125</td><td>60.1</td><td>2.0</td></tr><tr><td>&quot; 3 Series&quot;</td><td>2017</td><td>13100</td><td>&quot;Manual&quot;</td><td>25468</td><td>&quot;Petrol&quot;</td><td>200</td><td>42.8</td><td>2.0</td></tr><tr><td>&quot; 1 Series&quot;</td><td>2014</td><td>9930</td><td>&quot;Automatic&quot;</td><td>45000</td><td>&quot;Diesel&quot;</td><td>30</td><td>64.2</td><td>2.0</td></tr><tr><td>&quot; X1&quot;</td><td>2017</td><td>15981</td><td>&quot;Automatic&quot;</td><td>59432</td><td>&quot;Diesel&quot;</td><td>125</td><td>57.6</td><td>2.0</td></tr></tbody></table></div>"
      ],
      "text/plain": [
       "shape: (10_781, 9)\n",
       "┌───────────┬──────┬───────┬──────────────┬───┬──────────┬─────┬──────┬────────────┐\n",
       "│ model     ┆ year ┆ price ┆ transmission ┆ … ┆ fuelType ┆ tax ┆ mpg  ┆ engineSize │\n",
       "│ ---       ┆ ---  ┆ ---   ┆ ---          ┆   ┆ ---      ┆ --- ┆ ---  ┆ ---        │\n",
       "│ str       ┆ i64  ┆ i64   ┆ str          ┆   ┆ str      ┆ i64 ┆ f64  ┆ f64        │\n",
       "╞═══════════╪══════╪═══════╪══════════════╪═══╪══════════╪═════╪══════╪════════════╡\n",
       "│  5 Series ┆ 2014 ┆ 11200 ┆ Automatic    ┆ … ┆ Diesel   ┆ 125 ┆ 57.6 ┆ 2.0        │\n",
       "│  6 Series ┆ 2018 ┆ 27000 ┆ Automatic    ┆ … ┆ Petrol   ┆ 145 ┆ 42.8 ┆ 2.0        │\n",
       "│  5 Series ┆ 2016 ┆ 16000 ┆ Automatic    ┆ … ┆ Diesel   ┆ 160 ┆ 51.4 ┆ 3.0        │\n",
       "│  1 Series ┆ 2017 ┆ 12750 ┆ Automatic    ┆ … ┆ Diesel   ┆ 145 ┆ 72.4 ┆ 1.5        │\n",
       "│  7 Series ┆ 2014 ┆ 14500 ┆ Automatic    ┆ … ┆ Diesel   ┆ 160 ┆ 50.4 ┆ 3.0        │\n",
       "│ …         ┆ …    ┆ …     ┆ …            ┆ … ┆ …        ┆ …   ┆ …    ┆ …          │\n",
       "│  X3       ┆ 2016 ┆ 19000 ┆ Automatic    ┆ … ┆ Diesel   ┆ 150 ┆ 54.3 ┆ 2.0        │\n",
       "│  5 Series ┆ 2016 ┆ 14600 ┆ Automatic    ┆ … ┆ Diesel   ┆ 125 ┆ 60.1 ┆ 2.0        │\n",
       "│  3 Series ┆ 2017 ┆ 13100 ┆ Manual       ┆ … ┆ Petrol   ┆ 200 ┆ 42.8 ┆ 2.0        │\n",
       "│  1 Series ┆ 2014 ┆ 9930  ┆ Automatic    ┆ … ┆ Diesel   ┆ 30  ┆ 64.2 ┆ 2.0        │\n",
       "│  X1       ┆ 2017 ┆ 15981 ┆ Automatic    ┆ … ┆ Diesel   ┆ 125 ┆ 57.6 ┆ 2.0        │\n",
       "└───────────┴──────┴───────┴──────────────┴───┴──────────┴─────┴──────┴────────────┘"
      ]
     },
     "execution_count": 3,
     "metadata": {},
     "output_type": "execute_result"
    }
   ],
   "source": [
    "# load the dataset\n",
    "raw = pl.read_csv(\"/home/carlos/projects/ai/bmw.xls\")\n",
    "raw"
   ]
  },
  {
   "cell_type": "code",
   "execution_count": 4,
   "id": "2eb2d501",
   "metadata": {},
   "outputs": [
    {
     "data": {
      "text/html": [
       "<div><style>\n",
       ".dataframe > thead > tr,\n",
       ".dataframe > tbody > tr {\n",
       "  text-align: right;\n",
       "  white-space: pre-wrap;\n",
       "}\n",
       "</style>\n",
       "<small>shape: (10_781, 9)</small><table border=\"1\" class=\"dataframe\"><thead><tr><th>model</th><th>year</th><th>price</th><th>transmission</th><th>mileage</th><th>fuelType</th><th>tax</th><th>mpg</th><th>engineSize</th></tr><tr><td>cat</td><td>cat</td><td>i64</td><td>cat</td><td>i64</td><td>cat</td><td>i64</td><td>f64</td><td>f64</td></tr></thead><tbody><tr><td>&quot; 5 Series&quot;</td><td>&quot;2014&quot;</td><td>11200</td><td>&quot;Automatic&quot;</td><td>67068</td><td>&quot;Diesel&quot;</td><td>125</td><td>57.6</td><td>2.0</td></tr><tr><td>&quot; 6 Series&quot;</td><td>&quot;2018&quot;</td><td>27000</td><td>&quot;Automatic&quot;</td><td>14827</td><td>&quot;Petrol&quot;</td><td>145</td><td>42.8</td><td>2.0</td></tr><tr><td>&quot; 5 Series&quot;</td><td>&quot;2016&quot;</td><td>16000</td><td>&quot;Automatic&quot;</td><td>62794</td><td>&quot;Diesel&quot;</td><td>160</td><td>51.4</td><td>3.0</td></tr><tr><td>&quot; 1 Series&quot;</td><td>&quot;2017&quot;</td><td>12750</td><td>&quot;Automatic&quot;</td><td>26676</td><td>&quot;Diesel&quot;</td><td>145</td><td>72.4</td><td>1.5</td></tr><tr><td>&quot; 7 Series&quot;</td><td>&quot;2014&quot;</td><td>14500</td><td>&quot;Automatic&quot;</td><td>39554</td><td>&quot;Diesel&quot;</td><td>160</td><td>50.4</td><td>3.0</td></tr><tr><td>&hellip;</td><td>&hellip;</td><td>&hellip;</td><td>&hellip;</td><td>&hellip;</td><td>&hellip;</td><td>&hellip;</td><td>&hellip;</td><td>&hellip;</td></tr><tr><td>&quot; X3&quot;</td><td>&quot;2016&quot;</td><td>19000</td><td>&quot;Automatic&quot;</td><td>40818</td><td>&quot;Diesel&quot;</td><td>150</td><td>54.3</td><td>2.0</td></tr><tr><td>&quot; 5 Series&quot;</td><td>&quot;2016&quot;</td><td>14600</td><td>&quot;Automatic&quot;</td><td>42947</td><td>&quot;Diesel&quot;</td><td>125</td><td>60.1</td><td>2.0</td></tr><tr><td>&quot; 3 Series&quot;</td><td>&quot;2017&quot;</td><td>13100</td><td>&quot;Manual&quot;</td><td>25468</td><td>&quot;Petrol&quot;</td><td>200</td><td>42.8</td><td>2.0</td></tr><tr><td>&quot; 1 Series&quot;</td><td>&quot;2014&quot;</td><td>9930</td><td>&quot;Automatic&quot;</td><td>45000</td><td>&quot;Diesel&quot;</td><td>30</td><td>64.2</td><td>2.0</td></tr><tr><td>&quot; X1&quot;</td><td>&quot;2017&quot;</td><td>15981</td><td>&quot;Automatic&quot;</td><td>59432</td><td>&quot;Diesel&quot;</td><td>125</td><td>57.6</td><td>2.0</td></tr></tbody></table></div>"
      ],
      "text/plain": [
       "shape: (10_781, 9)\n",
       "┌───────────┬──────┬───────┬──────────────┬───┬──────────┬─────┬──────┬────────────┐\n",
       "│ model     ┆ year ┆ price ┆ transmission ┆ … ┆ fuelType ┆ tax ┆ mpg  ┆ engineSize │\n",
       "│ ---       ┆ ---  ┆ ---   ┆ ---          ┆   ┆ ---      ┆ --- ┆ ---  ┆ ---        │\n",
       "│ cat       ┆ cat  ┆ i64   ┆ cat          ┆   ┆ cat      ┆ i64 ┆ f64  ┆ f64        │\n",
       "╞═══════════╪══════╪═══════╪══════════════╪═══╪══════════╪═════╪══════╪════════════╡\n",
       "│  5 Series ┆ 2014 ┆ 11200 ┆ Automatic    ┆ … ┆ Diesel   ┆ 125 ┆ 57.6 ┆ 2.0        │\n",
       "│  6 Series ┆ 2018 ┆ 27000 ┆ Automatic    ┆ … ┆ Petrol   ┆ 145 ┆ 42.8 ┆ 2.0        │\n",
       "│  5 Series ┆ 2016 ┆ 16000 ┆ Automatic    ┆ … ┆ Diesel   ┆ 160 ┆ 51.4 ┆ 3.0        │\n",
       "│  1 Series ┆ 2017 ┆ 12750 ┆ Automatic    ┆ … ┆ Diesel   ┆ 145 ┆ 72.4 ┆ 1.5        │\n",
       "│  7 Series ┆ 2014 ┆ 14500 ┆ Automatic    ┆ … ┆ Diesel   ┆ 160 ┆ 50.4 ┆ 3.0        │\n",
       "│ …         ┆ …    ┆ …     ┆ …            ┆ … ┆ …        ┆ …   ┆ …    ┆ …          │\n",
       "│  X3       ┆ 2016 ┆ 19000 ┆ Automatic    ┆ … ┆ Diesel   ┆ 150 ┆ 54.3 ┆ 2.0        │\n",
       "│  5 Series ┆ 2016 ┆ 14600 ┆ Automatic    ┆ … ┆ Diesel   ┆ 125 ┆ 60.1 ┆ 2.0        │\n",
       "│  3 Series ┆ 2017 ┆ 13100 ┆ Manual       ┆ … ┆ Petrol   ┆ 200 ┆ 42.8 ┆ 2.0        │\n",
       "│  1 Series ┆ 2014 ┆ 9930  ┆ Automatic    ┆ … ┆ Diesel   ┆ 30  ┆ 64.2 ┆ 2.0        │\n",
       "│  X1       ┆ 2017 ┆ 15981 ┆ Automatic    ┆ … ┆ Diesel   ┆ 125 ┆ 57.6 ┆ 2.0        │\n",
       "└───────────┴──────┴───────┴──────────────┴───┴──────────┴─────┴──────┴────────────┘"
      ]
     },
     "execution_count": 4,
     "metadata": {},
     "output_type": "execute_result"
    }
   ],
   "source": [
    "# pre-process to cast columns to correct type\n",
    "\n",
    "def preprocess(df):\n",
    "    return df.with_columns(\n",
    "        model=pl.col('model').cast(pl.Categorical), \n",
    "        year=pl.col('year').cast(pl.String).cast(pl.Categorical),\n",
    "        transmission=pl.col('transmission').cast(pl.Categorical),\n",
    "        fuelType=pl.col('fuelType').cast(pl.Categorical))\n",
    "\n",
    "preprocess(raw)"
   ]
  },
  {
   "cell_type": "markdown",
   "id": "210d87cc",
   "metadata": {},
   "source": [
    "# Data Processing"
   ]
  },
  {
   "cell_type": "code",
   "execution_count": 5,
   "id": "3e143e7e",
   "metadata": {},
   "outputs": [
    {
     "data": {
      "text/html": [
       "<div><style>\n",
       ".dataframe > thead > tr,\n",
       ".dataframe > tbody > tr {\n",
       "  text-align: right;\n",
       "  white-space: pre-wrap;\n",
       "}\n",
       "</style>\n",
       "<small>shape: (10_781, 61)</small><table border=\"1\" class=\"dataframe\"><thead><tr><th>num__mileage</th><th>num__tax</th><th>num__mpg</th><th>num__engineSize</th><th>cat__model_ 1 Series</th><th>cat__model_ 2 Series</th><th>cat__model_ 3 Series</th><th>cat__model_ 4 Series</th><th>cat__model_ 5 Series</th><th>cat__model_ 6 Series</th><th>cat__model_ 7 Series</th><th>cat__model_ 8 Series</th><th>cat__model_ M2</th><th>cat__model_ M3</th><th>cat__model_ M4</th><th>cat__model_ M5</th><th>cat__model_ M6</th><th>cat__model_ X1</th><th>cat__model_ X2</th><th>cat__model_ X3</th><th>cat__model_ X4</th><th>cat__model_ X5</th><th>cat__model_ X6</th><th>cat__model_ X7</th><th>cat__model_ Z3</th><th>cat__model_ Z4</th><th>cat__model_ i3</th><th>cat__model_ i8</th><th>cat__year_1996</th><th>cat__year_1997</th><th>cat__year_1998</th><th>cat__year_1999</th><th>cat__year_2000</th><th>cat__year_2001</th><th>cat__year_2002</th><th>cat__year_2003</th><th>cat__year_2004</th><th>cat__year_2005</th><th>cat__year_2006</th><th>cat__year_2007</th><th>cat__year_2008</th><th>cat__year_2009</th><th>cat__year_2010</th><th>cat__year_2011</th><th>cat__year_2012</th><th>cat__year_2013</th><th>cat__year_2014</th><th>cat__year_2015</th><th>cat__year_2016</th><th>cat__year_2017</th><th>cat__year_2018</th><th>cat__year_2019</th><th>cat__year_2020</th><th>cat__transmission_Automatic</th><th>cat__transmission_Manual</th><th>cat__transmission_Semi-Auto</th><th>cat__fuelType_Diesel</th><th>cat__fuelType_Electric</th><th>cat__fuelType_Hybrid</th><th>cat__fuelType_Other</th><th>cat__fuelType_Petrol</th></tr><tr><td>f64</td><td>f64</td><td>f64</td><td>f64</td><td>f64</td><td>f64</td><td>f64</td><td>f64</td><td>f64</td><td>f64</td><td>f64</td><td>f64</td><td>f64</td><td>f64</td><td>f64</td><td>f64</td><td>f64</td><td>f64</td><td>f64</td><td>f64</td><td>f64</td><td>f64</td><td>f64</td><td>f64</td><td>f64</td><td>f64</td><td>f64</td><td>f64</td><td>f64</td><td>f64</td><td>f64</td><td>f64</td><td>f64</td><td>f64</td><td>f64</td><td>f64</td><td>f64</td><td>f64</td><td>f64</td><td>f64</td><td>f64</td><td>f64</td><td>f64</td><td>f64</td><td>f64</td><td>f64</td><td>f64</td><td>f64</td><td>f64</td><td>f64</td><td>f64</td><td>f64</td><td>f64</td><td>f64</td><td>f64</td><td>f64</td><td>f64</td><td>f64</td><td>f64</td><td>f64</td><td>f64</td></tr></thead><tbody><tr><td>1.653447</td><td>-0.108963</td><td>0.038326</td><td>-0.303911</td><td>0.0</td><td>0.0</td><td>0.0</td><td>0.0</td><td>1.0</td><td>0.0</td><td>0.0</td><td>0.0</td><td>0.0</td><td>0.0</td><td>0.0</td><td>0.0</td><td>0.0</td><td>0.0</td><td>0.0</td><td>0.0</td><td>0.0</td><td>0.0</td><td>0.0</td><td>0.0</td><td>0.0</td><td>0.0</td><td>0.0</td><td>0.0</td><td>0.0</td><td>0.0</td><td>0.0</td><td>0.0</td><td>0.0</td><td>0.0</td><td>0.0</td><td>0.0</td><td>0.0</td><td>0.0</td><td>0.0</td><td>0.0</td><td>0.0</td><td>0.0</td><td>0.0</td><td>0.0</td><td>0.0</td><td>0.0</td><td>1.0</td><td>0.0</td><td>0.0</td><td>0.0</td><td>0.0</td><td>0.0</td><td>0.0</td><td>1.0</td><td>0.0</td><td>0.0</td><td>1.0</td><td>0.0</td><td>0.0</td><td>0.0</td><td>0.0</td></tr><tr><td>-0.424388</td><td>0.216199</td><td>-0.433982</td><td>-0.303911</td><td>0.0</td><td>0.0</td><td>0.0</td><td>0.0</td><td>0.0</td><td>1.0</td><td>0.0</td><td>0.0</td><td>0.0</td><td>0.0</td><td>0.0</td><td>0.0</td><td>0.0</td><td>0.0</td><td>0.0</td><td>0.0</td><td>0.0</td><td>0.0</td><td>0.0</td><td>0.0</td><td>0.0</td><td>0.0</td><td>0.0</td><td>0.0</td><td>0.0</td><td>0.0</td><td>0.0</td><td>0.0</td><td>0.0</td><td>0.0</td><td>0.0</td><td>0.0</td><td>0.0</td><td>0.0</td><td>0.0</td><td>0.0</td><td>0.0</td><td>0.0</td><td>0.0</td><td>0.0</td><td>0.0</td><td>0.0</td><td>0.0</td><td>0.0</td><td>0.0</td><td>0.0</td><td>1.0</td><td>0.0</td><td>0.0</td><td>1.0</td><td>0.0</td><td>0.0</td><td>0.0</td><td>0.0</td><td>0.0</td><td>0.0</td><td>1.0</td></tr><tr><td>1.483453</td><td>0.46007</td><td>-0.159533</td><td>1.507591</td><td>0.0</td><td>0.0</td><td>0.0</td><td>0.0</td><td>1.0</td><td>0.0</td><td>0.0</td><td>0.0</td><td>0.0</td><td>0.0</td><td>0.0</td><td>0.0</td><td>0.0</td><td>0.0</td><td>0.0</td><td>0.0</td><td>0.0</td><td>0.0</td><td>0.0</td><td>0.0</td><td>0.0</td><td>0.0</td><td>0.0</td><td>0.0</td><td>0.0</td><td>0.0</td><td>0.0</td><td>0.0</td><td>0.0</td><td>0.0</td><td>0.0</td><td>0.0</td><td>0.0</td><td>0.0</td><td>0.0</td><td>0.0</td><td>0.0</td><td>0.0</td><td>0.0</td><td>0.0</td><td>0.0</td><td>0.0</td><td>0.0</td><td>0.0</td><td>1.0</td><td>0.0</td><td>0.0</td><td>0.0</td><td>0.0</td><td>1.0</td><td>0.0</td><td>0.0</td><td>1.0</td><td>0.0</td><td>0.0</td><td>0.0</td><td>0.0</td></tr><tr><td>0.046894</td><td>0.216199</td><td>0.510634</td><td>-1.209662</td><td>1.0</td><td>0.0</td><td>0.0</td><td>0.0</td><td>0.0</td><td>0.0</td><td>0.0</td><td>0.0</td><td>0.0</td><td>0.0</td><td>0.0</td><td>0.0</td><td>0.0</td><td>0.0</td><td>0.0</td><td>0.0</td><td>0.0</td><td>0.0</td><td>0.0</td><td>0.0</td><td>0.0</td><td>0.0</td><td>0.0</td><td>0.0</td><td>0.0</td><td>0.0</td><td>0.0</td><td>0.0</td><td>0.0</td><td>0.0</td><td>0.0</td><td>0.0</td><td>0.0</td><td>0.0</td><td>0.0</td><td>0.0</td><td>0.0</td><td>0.0</td><td>0.0</td><td>0.0</td><td>0.0</td><td>0.0</td><td>0.0</td><td>0.0</td><td>0.0</td><td>1.0</td><td>0.0</td><td>0.0</td><td>0.0</td><td>1.0</td><td>0.0</td><td>0.0</td><td>1.0</td><td>0.0</td><td>0.0</td><td>0.0</td><td>0.0</td></tr><tr><td>0.559104</td><td>0.46007</td><td>-0.191445</td><td>1.507591</td><td>0.0</td><td>0.0</td><td>0.0</td><td>0.0</td><td>0.0</td><td>0.0</td><td>1.0</td><td>0.0</td><td>0.0</td><td>0.0</td><td>0.0</td><td>0.0</td><td>0.0</td><td>0.0</td><td>0.0</td><td>0.0</td><td>0.0</td><td>0.0</td><td>0.0</td><td>0.0</td><td>0.0</td><td>0.0</td><td>0.0</td><td>0.0</td><td>0.0</td><td>0.0</td><td>0.0</td><td>0.0</td><td>0.0</td><td>0.0</td><td>0.0</td><td>0.0</td><td>0.0</td><td>0.0</td><td>0.0</td><td>0.0</td><td>0.0</td><td>0.0</td><td>0.0</td><td>0.0</td><td>0.0</td><td>0.0</td><td>1.0</td><td>0.0</td><td>0.0</td><td>0.0</td><td>0.0</td><td>0.0</td><td>0.0</td><td>1.0</td><td>0.0</td><td>0.0</td><td>1.0</td><td>0.0</td><td>0.0</td><td>0.0</td><td>0.0</td></tr><tr><td>&hellip;</td><td>&hellip;</td><td>&hellip;</td><td>&hellip;</td><td>&hellip;</td><td>&hellip;</td><td>&hellip;</td><td>&hellip;</td><td>&hellip;</td><td>&hellip;</td><td>&hellip;</td><td>&hellip;</td><td>&hellip;</td><td>&hellip;</td><td>&hellip;</td><td>&hellip;</td><td>&hellip;</td><td>&hellip;</td><td>&hellip;</td><td>&hellip;</td><td>&hellip;</td><td>&hellip;</td><td>&hellip;</td><td>&hellip;</td><td>&hellip;</td><td>&hellip;</td><td>&hellip;</td><td>&hellip;</td><td>&hellip;</td><td>&hellip;</td><td>&hellip;</td><td>&hellip;</td><td>&hellip;</td><td>&hellip;</td><td>&hellip;</td><td>&hellip;</td><td>&hellip;</td><td>&hellip;</td><td>&hellip;</td><td>&hellip;</td><td>&hellip;</td><td>&hellip;</td><td>&hellip;</td><td>&hellip;</td><td>&hellip;</td><td>&hellip;</td><td>&hellip;</td><td>&hellip;</td><td>&hellip;</td><td>&hellip;</td><td>&hellip;</td><td>&hellip;</td><td>&hellip;</td><td>&hellip;</td><td>&hellip;</td><td>&hellip;</td><td>&hellip;</td><td>&hellip;</td><td>&hellip;</td><td>&hellip;</td><td>&hellip;</td></tr><tr><td>0.609379</td><td>0.297489</td><td>-0.066986</td><td>-0.303911</td><td>0.0</td><td>0.0</td><td>0.0</td><td>0.0</td><td>0.0</td><td>0.0</td><td>0.0</td><td>0.0</td><td>0.0</td><td>0.0</td><td>0.0</td><td>0.0</td><td>0.0</td><td>0.0</td><td>0.0</td><td>1.0</td><td>0.0</td><td>0.0</td><td>0.0</td><td>0.0</td><td>0.0</td><td>0.0</td><td>0.0</td><td>0.0</td><td>0.0</td><td>0.0</td><td>0.0</td><td>0.0</td><td>0.0</td><td>0.0</td><td>0.0</td><td>0.0</td><td>0.0</td><td>0.0</td><td>0.0</td><td>0.0</td><td>0.0</td><td>0.0</td><td>0.0</td><td>0.0</td><td>0.0</td><td>0.0</td><td>0.0</td><td>0.0</td><td>1.0</td><td>0.0</td><td>0.0</td><td>0.0</td><td>0.0</td><td>1.0</td><td>0.0</td><td>0.0</td><td>1.0</td><td>0.0</td><td>0.0</td><td>0.0</td><td>0.0</td></tr><tr><td>0.694058</td><td>-0.108963</td><td>0.118108</td><td>-0.303911</td><td>0.0</td><td>0.0</td><td>0.0</td><td>0.0</td><td>1.0</td><td>0.0</td><td>0.0</td><td>0.0</td><td>0.0</td><td>0.0</td><td>0.0</td><td>0.0</td><td>0.0</td><td>0.0</td><td>0.0</td><td>0.0</td><td>0.0</td><td>0.0</td><td>0.0</td><td>0.0</td><td>0.0</td><td>0.0</td><td>0.0</td><td>0.0</td><td>0.0</td><td>0.0</td><td>0.0</td><td>0.0</td><td>0.0</td><td>0.0</td><td>0.0</td><td>0.0</td><td>0.0</td><td>0.0</td><td>0.0</td><td>0.0</td><td>0.0</td><td>0.0</td><td>0.0</td><td>0.0</td><td>0.0</td><td>0.0</td><td>0.0</td><td>0.0</td><td>1.0</td><td>0.0</td><td>0.0</td><td>0.0</td><td>0.0</td><td>1.0</td><td>0.0</td><td>0.0</td><td>1.0</td><td>0.0</td><td>0.0</td><td>0.0</td><td>0.0</td></tr><tr><td>-0.001153</td><td>1.110393</td><td>-0.433982</td><td>-0.303911</td><td>0.0</td><td>0.0</td><td>1.0</td><td>0.0</td><td>0.0</td><td>0.0</td><td>0.0</td><td>0.0</td><td>0.0</td><td>0.0</td><td>0.0</td><td>0.0</td><td>0.0</td><td>0.0</td><td>0.0</td><td>0.0</td><td>0.0</td><td>0.0</td><td>0.0</td><td>0.0</td><td>0.0</td><td>0.0</td><td>0.0</td><td>0.0</td><td>0.0</td><td>0.0</td><td>0.0</td><td>0.0</td><td>0.0</td><td>0.0</td><td>0.0</td><td>0.0</td><td>0.0</td><td>0.0</td><td>0.0</td><td>0.0</td><td>0.0</td><td>0.0</td><td>0.0</td><td>0.0</td><td>0.0</td><td>0.0</td><td>0.0</td><td>0.0</td><td>0.0</td><td>1.0</td><td>0.0</td><td>0.0</td><td>0.0</td><td>0.0</td><td>1.0</td><td>0.0</td><td>0.0</td><td>0.0</td><td>0.0</td><td>0.0</td><td>1.0</td></tr><tr><td>0.775714</td><td>-1.65348</td><td>0.24895</td><td>-0.303911</td><td>1.0</td><td>0.0</td><td>0.0</td><td>0.0</td><td>0.0</td><td>0.0</td><td>0.0</td><td>0.0</td><td>0.0</td><td>0.0</td><td>0.0</td><td>0.0</td><td>0.0</td><td>0.0</td><td>0.0</td><td>0.0</td><td>0.0</td><td>0.0</td><td>0.0</td><td>0.0</td><td>0.0</td><td>0.0</td><td>0.0</td><td>0.0</td><td>0.0</td><td>0.0</td><td>0.0</td><td>0.0</td><td>0.0</td><td>0.0</td><td>0.0</td><td>0.0</td><td>0.0</td><td>0.0</td><td>0.0</td><td>0.0</td><td>0.0</td><td>0.0</td><td>0.0</td><td>0.0</td><td>0.0</td><td>0.0</td><td>1.0</td><td>0.0</td><td>0.0</td><td>0.0</td><td>0.0</td><td>0.0</td><td>0.0</td><td>1.0</td><td>0.0</td><td>0.0</td><td>1.0</td><td>0.0</td><td>0.0</td><td>0.0</td><td>0.0</td></tr><tr><td>1.349733</td><td>-0.108963</td><td>0.038326</td><td>-0.303911</td><td>0.0</td><td>0.0</td><td>0.0</td><td>0.0</td><td>0.0</td><td>0.0</td><td>0.0</td><td>0.0</td><td>0.0</td><td>0.0</td><td>0.0</td><td>0.0</td><td>0.0</td><td>1.0</td><td>0.0</td><td>0.0</td><td>0.0</td><td>0.0</td><td>0.0</td><td>0.0</td><td>0.0</td><td>0.0</td><td>0.0</td><td>0.0</td><td>0.0</td><td>0.0</td><td>0.0</td><td>0.0</td><td>0.0</td><td>0.0</td><td>0.0</td><td>0.0</td><td>0.0</td><td>0.0</td><td>0.0</td><td>0.0</td><td>0.0</td><td>0.0</td><td>0.0</td><td>0.0</td><td>0.0</td><td>0.0</td><td>0.0</td><td>0.0</td><td>0.0</td><td>1.0</td><td>0.0</td><td>0.0</td><td>0.0</td><td>1.0</td><td>0.0</td><td>0.0</td><td>1.0</td><td>0.0</td><td>0.0</td><td>0.0</td><td>0.0</td></tr></tbody></table></div>"
      ],
      "text/plain": [
       "shape: (10_781, 61)\n",
       "┌───────────┬───────────┬───────────┬───────────┬───┬───────────┬───────────┬───────────┬──────────┐\n",
       "│ num__mile ┆ num__tax  ┆ num__mpg  ┆ num__engi ┆ … ┆ cat__fuel ┆ cat__fuel ┆ cat__fuel ┆ cat__fue │\n",
       "│ age       ┆ ---       ┆ ---       ┆ neSize    ┆   ┆ Type_Elec ┆ Type_Hybr ┆ Type_Othe ┆ lType_Pe │\n",
       "│ ---       ┆ f64       ┆ f64       ┆ ---       ┆   ┆ tric      ┆ id        ┆ r         ┆ trol     │\n",
       "│ f64       ┆           ┆           ┆ f64       ┆   ┆ ---       ┆ ---       ┆ ---       ┆ ---      │\n",
       "│           ┆           ┆           ┆           ┆   ┆ f64       ┆ f64       ┆ f64       ┆ f64      │\n",
       "╞═══════════╪═══════════╪═══════════╪═══════════╪═══╪═══════════╪═══════════╪═══════════╪══════════╡\n",
       "│ 1.653447  ┆ -0.108963 ┆ 0.038326  ┆ -0.303911 ┆ … ┆ 0.0       ┆ 0.0       ┆ 0.0       ┆ 0.0      │\n",
       "│ -0.424388 ┆ 0.216199  ┆ -0.433982 ┆ -0.303911 ┆ … ┆ 0.0       ┆ 0.0       ┆ 0.0       ┆ 1.0      │\n",
       "│ 1.483453  ┆ 0.46007   ┆ -0.159533 ┆ 1.507591  ┆ … ┆ 0.0       ┆ 0.0       ┆ 0.0       ┆ 0.0      │\n",
       "│ 0.046894  ┆ 0.216199  ┆ 0.510634  ┆ -1.209662 ┆ … ┆ 0.0       ┆ 0.0       ┆ 0.0       ┆ 0.0      │\n",
       "│ 0.559104  ┆ 0.46007   ┆ -0.191445 ┆ 1.507591  ┆ … ┆ 0.0       ┆ 0.0       ┆ 0.0       ┆ 0.0      │\n",
       "│ …         ┆ …         ┆ …         ┆ …         ┆ … ┆ …         ┆ …         ┆ …         ┆ …        │\n",
       "│ 0.609379  ┆ 0.297489  ┆ -0.066986 ┆ -0.303911 ┆ … ┆ 0.0       ┆ 0.0       ┆ 0.0       ┆ 0.0      │\n",
       "│ 0.694058  ┆ -0.108963 ┆ 0.118108  ┆ -0.303911 ┆ … ┆ 0.0       ┆ 0.0       ┆ 0.0       ┆ 0.0      │\n",
       "│ -0.001153 ┆ 1.110393  ┆ -0.433982 ┆ -0.303911 ┆ … ┆ 0.0       ┆ 0.0       ┆ 0.0       ┆ 1.0      │\n",
       "│ 0.775714  ┆ -1.65348  ┆ 0.24895   ┆ -0.303911 ┆ … ┆ 0.0       ┆ 0.0       ┆ 0.0       ┆ 0.0      │\n",
       "│ 1.349733  ┆ -0.108963 ┆ 0.038326  ┆ -0.303911 ┆ … ┆ 0.0       ┆ 0.0       ┆ 0.0       ┆ 0.0      │\n",
       "└───────────┴───────────┴───────────┴───────────┴───┴───────────┴───────────┴───────────┴──────────┘"
      ]
     },
     "execution_count": 5,
     "metadata": {},
     "output_type": "execute_result"
    }
   ],
   "source": [
    "# print(preprocess(raw).select(cs.categorical()).columns)\n",
    "# print(preprocess(raw).select(cs.numeric()).columns)\n",
    "pre_transformer = FunctionTransformer(preprocess)\n",
    "\n",
    "numeric_features = preprocess(raw.drop('price')).select(cs.numeric()).columns\n",
    "cat_features = preprocess(raw).select(cs.categorical()).columns\n",
    "\n",
    "num_pipeline = Pipeline([\n",
    "    ('std', StandardScaler())\n",
    "])\n",
    "\n",
    "#num_pipeline.fit_transform(preprocess(raw).select(numeric_features))\n",
    "\n",
    "cat_pipeline = Pipeline([\n",
    "    ('ohe', OneHotEncoder(handle_unknown='ignore', sparse_output=False))\n",
    "])\n",
    "\n",
    "#cat_pipeline.fit_transform(preprocess(raw).select(cat_features))\n",
    "\n",
    "ct = ColumnTransformer(transformers=[\n",
    "    ('num', num_pipeline, numeric_features),\n",
    "    ('cat', cat_pipeline, cat_features)\n",
    "])\n",
    "\n",
    "ct.fit_transform(preprocess(raw).select([*numeric_features, *cat_features]))"
   ]
  },
  {
   "cell_type": "code",
   "execution_count": 6,
   "id": "9fac7865",
   "metadata": {},
   "outputs": [
    {
     "data": {
      "text/plain": [
       "0.8807085987784302"
      ]
     },
     "execution_count": 6,
     "metadata": {},
     "output_type": "execute_result"
    }
   ],
   "source": [
    "from sklearn.linear_model import LinearRegression\n",
    "\n",
    "\n",
    "linear = LinearRegression()\n",
    "\n",
    "x = raw.drop('price')\n",
    "y = raw.select('price')\n",
    "X_train, X_test, y_train, y_test = train_test_split(x, y, test_size=0.2, random_state=42)\n",
    "\n",
    "pipe = Pipeline([\n",
    "    ('pre', pre_transformer),\n",
    "    ('ct', ct),\n",
    "    ('model', linear)\n",
    "])\n",
    "\n",
    "pipe.fit(X_train, y_train)\n",
    "pipe.score(X_test, y_test)"
   ]
  },
  {
   "cell_type": "code",
   "execution_count": 7,
   "id": "4a07ed86",
   "metadata": {},
   "outputs": [
    {
     "data": {
      "text/plain": [
       "array([[13725.50551084],\n",
       "       [13311.94377535],\n",
       "       [39130.0722473 ],\n",
       "       ...,\n",
       "       [23489.03570078],\n",
       "       [45853.76138838],\n",
       "       [43503.28736544]], shape=(2157, 1))"
      ]
     },
     "execution_count": 7,
     "metadata": {},
     "output_type": "execute_result"
    }
   ],
   "source": [
    "pipe.predict(X_test)"
   ]
  },
  {
   "cell_type": "code",
   "execution_count": 8,
   "id": "2c740808",
   "metadata": {},
   "outputs": [
    {
     "data": {
      "text/html": [
       "<div><style>\n",
       ".dataframe > thead > tr,\n",
       ".dataframe > tbody > tr {\n",
       "  text-align: right;\n",
       "  white-space: pre-wrap;\n",
       "}\n",
       "</style>\n",
       "<small>shape: (8, 1)</small><table border=\"1\" class=\"dataframe\"><thead><tr><th>price</th></tr><tr><td>i64</td></tr></thead><tbody><tr><td>15300</td></tr><tr><td>15495</td></tr><tr><td>39875</td></tr><tr><td>21730</td></tr><tr><td>13799</td></tr><tr><td>24499</td></tr><tr><td>42202</td></tr><tr><td>32400</td></tr></tbody></table></div>"
      ],
      "text/plain": [
       "shape: (8, 1)\n",
       "┌───────┐\n",
       "│ price │\n",
       "│ ---   │\n",
       "│ i64   │\n",
       "╞═══════╡\n",
       "│ 15300 │\n",
       "│ 15495 │\n",
       "│ 39875 │\n",
       "│ 21730 │\n",
       "│ 13799 │\n",
       "│ 24499 │\n",
       "│ 42202 │\n",
       "│ 32400 │\n",
       "└───────┘"
      ]
     },
     "execution_count": 8,
     "metadata": {},
     "output_type": "execute_result"
    }
   ],
   "source": [
    "y_test.head(8)"
   ]
  },
  {
   "cell_type": "code",
   "execution_count": 9,
   "id": "475cf29f",
   "metadata": {},
   "outputs": [
    {
     "data": {
      "text/plain": [
       "array([[13725.50551084],\n",
       "       [13311.94377535],\n",
       "       [39130.0722473 ],\n",
       "       [23534.16429859],\n",
       "       [14754.59855195],\n",
       "       [26484.48657778],\n",
       "       [41065.15222211],\n",
       "       [29364.09048829]])"
      ]
     },
     "execution_count": 9,
     "metadata": {},
     "output_type": "execute_result"
    }
   ],
   "source": [
    "pipe.predict(X_test.head(8))"
   ]
  }
 ],
 "metadata": {
  "kernelspec": {
   "display_name": "ml-env",
   "language": "python",
   "name": "python3"
  },
  "language_info": {
   "codemirror_mode": {
    "name": "ipython",
    "version": 3
   },
   "file_extension": ".py",
   "mimetype": "text/x-python",
   "name": "python",
   "nbconvert_exporter": "python",
   "pygments_lexer": "ipython3",
   "version": "3.10.12"
  }
 },
 "nbformat": 4,
 "nbformat_minor": 5
}
